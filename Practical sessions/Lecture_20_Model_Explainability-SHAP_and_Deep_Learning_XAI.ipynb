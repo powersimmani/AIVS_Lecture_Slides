{
 "cells": [
  {
   "cell_type": "markdown",
   "metadata": {},
   "source": [
    "# \ud83c\udfaf SHAP and XAI: Hands-on Tutorial\\n",
    "\\n",
    "## Model Explainability - From Theory to Practice\\n",
    "\\n",
    "**Based on Lecture 20: Model Explainability - SHAP and Deep Learning XAI**\\n",
    "\\n",
    "---\\n",
    "\\n",
    "### \ud83d\udcda Learning Objectives\\n",
    "\\n",
    "1. \u2705 Understand Shapley values from game theory\\n",
    "2. \u2705 Implement different SHAP explainers\\n",
    "3. \u2705 Create and interpret SHAP visualizations\\n",
    "4. \u2705 Apply SHAP to real-world problems\\n",
    "\\n",
    "**Duration**: ~2 hours\\n",
    "\\n",
    "**Instructor**: Ho-min Park (homin.park@ghent.ac.kr)\\n"
   ]
  },
  {
   "cell_type": "markdown",
   "metadata": {},
   "source": [
    "---\\n# \ud83d\udce6 Part 0: Setup\\n"
   ]
  },
  {
   "cell_type": "code",
   "metadata": {},
   "source": [
    "# Install (uncomment if needed)\\n",
    "# !pip install shap scikit-learn matplotlib seaborn pandas numpy\\n",
    "print('\u2705 Ready!')\\n"
   ],
   "execution_count": null,
   "outputs": []
  },
  {
   "cell_type": "code",
   "metadata": {},
   "source": [
    "import numpy as np\\n",
    "import pandas as pd\\n",
    "import matplotlib.pyplot as plt\\n",
    "import seaborn as sns\\n",
    "import warnings\\n",
    "warnings.filterwarnings('ignore')\\n",
    "\\n",
    "from sklearn.ensemble import RandomForestClassifier, GradientBoostingClassifier\\n",
    "from sklearn.model_selection import train_test_split\\n",
    "from sklearn.metrics import accuracy_score\\n",
    "from sklearn.datasets import load_iris, load_breast_cancer\\n",
    "\\n",
    "import shap\\n",
    "\\n",
    "plt.style.use('seaborn-v0_8-darkgrid')\\n",
    "RANDOM_STATE = 42\\n",
    "np.random.seed(RANDOM_STATE)\\n",
    "\\n",
    "print(f'\u2705 Libraries imported! SHAP v{shap.__version__}')\\n"
   ],
   "execution_count": null,
   "outputs": []
  },
  {
   "cell_type": "code",
   "metadata": {},
   "source": [
    "# Load datasets\\n",
    "iris = load_iris(as_frame=True)\\n",
    "iris_df = pd.DataFrame(iris.data, columns=iris.feature_names)\\n",
    "iris_df['target'] = iris.target\\n",
    "\\n",
    "cancer = load_breast_cancer(as_frame=True)\\n",
    "cancer_df = pd.DataFrame(cancer.data, columns=cancer.feature_names)\\n",
    "cancer_df['target'] = cancer.target\\n",
    "\\n",
    "# Create credit dataset\\n",
    "n = 1000\\n",
    "credit_df = pd.DataFrame({\\n",
    "    'Age': np.random.randint(22, 70, n),\\n",
    "    'Income': np.random.randint(20000, 150000, n),\\n",
    "    'Credit_Score': np.random.randint(300, 850, n),\\n",
    "    'Debt_Ratio': np.random.uniform(0, 0.6, n),\\n",
    "    'Employment_Years': np.random.randint(0, 40, n)\\n",
    "})\\n",
    "\\n",
    "score = ((credit_df['Income'] / 50000) * 0.3 +\\n",
    "         (credit_df['Credit_Score'] / 850) * 0.4 +\\n",
    "         (1 - credit_df['Debt_Ratio']) * 0.2 +\\n",
    "         (credit_df['Employment_Years'] / 40) * 0.1)\\n",
    "credit_df['Approved'] = (score + np.random.normal(0, 0.1, n) > 0.5).astype(int)\\n",
    "\\n",
    "print(f'\ud83d\udcca Datasets loaded:')\\n",
    "print(f'  Iris: {iris_df.shape}')\\n",
    "print(f'  Cancer: {cancer_df.shape}')\\n",
    "print(f'  Credit: {credit_df.shape} (Approval: {credit_df[\"Approved\"].mean():.1%})')\\n"
   ],
   "execution_count": null,
   "outputs": []
  },
  {
   "cell_type": "markdown",
   "metadata": {},
   "source": [
    "---\\n",
    "# \ud83d\udcca Part 1: SHAP Fundamentals\\n",
    "\\n",
    "SHAP (SHapley Additive exPlanations) is based on **cooperative game theory**.\\n",
    "\\n",
    "### Core Formula:\\n",
    "```\\n",
    "f(x) = \u03c6\u2080 + \u03c6\u2081 + \u03c6\u2082 + ... + \u03c6\u2099\\n",
    "```\\n",
    "\\n",
    "where:\\n",
    "- `f(x)` = model prediction\\n",
    "- `\u03c6\u2080` = base value (average)\\n",
    "- `\u03c6\u1d62` = SHAP value for feature i\\n"
   ]
  },
  {
   "cell_type": "markdown",
   "metadata": {},
   "source": [
    "## Exercise 1: Understanding Shapley Values\\n",
    "\\n",
    "### \ud83d\udcd6 Concept\\n",
    "\\n",
    "Shapley values answer: **How should we fairly distribute credit among features?**\\n",
    "\\n",
    "Calculation considers ALL possible feature coalitions.\\n"
   ]
  },
  {
   "cell_type": "code",
   "metadata": {},
   "source": [
    "# Manual calculation example\\n",
    "predictions = {\\n",
    "    'empty': 250,\\n",
    "    'sqft': 300,\\n",
    "    'location': 280,\\n",
    "    'sqft+location': 340\\n",
    "}\\n",
    "\\n",
    "print('\ud83c\udfe0 House Price Predictions ($K):')\\n",
    "for k, v in predictions.items():\\n",
    "    print(f'  {k:20} \u2192 ${v}')\\n",
    "\\n",
    "# Shapley for Square Feet\\n",
    "shap_sqft = (\\n",
    "    (1/2) * (predictions['sqft'] - predictions['empty']) +\\n",
    "    (1/2) * (predictions['sqft+location'] - predictions['location'])\\n",
    ")\\n",
    "\\n",
    "print(f'\\\\n\u2705 Shapley(Square Feet) = ${shap_sqft:.1f}K')\\n",
    "\\n",
    "# Visualize\\n",
    "fig, ax = plt.subplots(figsize=(10, 5))\\n",
    "features = ['Base', 'Sq Feet', 'Location', 'Final']\\n",
    "values = [250, 50, 30, 330]\\n",
    "colors = ['lightblue', 'green', 'green', 'darkblue']\\n",
    "\\n",
    "ax.bar(features, values, color=colors, alpha=0.7, edgecolor='black')\\n",
    "for i, v in enumerate(values):\\n",
    "    ax.text(i, v, f'${v}K', ha='center', va='bottom', fontweight='bold')\\n",
    "\\n",
    "ax.set_ylabel('Value ($K)', fontweight='bold')\\n",
    "ax.set_title('SHAP Decomposition', fontweight='bold')\\n",
    "plt.tight_layout()\\n",
    "plt.show()\\n",
    "\\n",
    "print('\ud83d\udca1 Additive: 250 + 50 + 30 = 330 \u2713')\\n"
   ],
   "execution_count": null,
   "outputs": []
  },
  {
   "cell_type": "markdown",
   "metadata": {},
   "source": [
    "### \u270f\ufe0f Your Turn\\n",
    "\\n",
    "**Task**: Calculate Shapley value for Location feature.\\n"
   ]
  },
  {
   "cell_type": "code",
   "metadata": {},
   "source": [
    "# Your code here\\n# TODO: Calculate Shapley for Location\\n\\n"
   ],
   "execution_count": null,
   "outputs": []
  }
 ],
 "metadata": {
  "kernelspec": {
   "display_name": "Python 3",
   "language": "python",
   "name": "python3"
  },
  "language_info": {
   "codemirror_mode": {
    "name": "ipython",
    "version": 3
   },
   "file_extension": ".py",
   "mimetype": "text/x-python",
   "name": "python",
   "nbconvert_exporter": "python",
   "pygments_lexer": "ipython3",
   "version": "3.8.0"
  }
 },
 "nbformat": 4,
 "nbformat_minor": 4
}